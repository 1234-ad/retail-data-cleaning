{
 "cells": [
  {
   "cell_type": "markdown",
   "id": "42585147",
   "metadata": {},
   "source": [
    "# 🧹 Data Cleaning & Preprocessing\n",
    "This notebook cleans the messy retail dataset."
   ]
  },
  {
   "cell_type": "code",
   "execution_count": null,
   "id": "3a0a8afb",
   "metadata": {},
   "outputs": [],
   "source": [
    "\n",
    "import pandas as pd\n",
    "\n",
    "df = pd.read_csv(\"retail.csv\")\n",
    "print(\"Shape before:\", df.shape)\n",
    "df.head()\n"
   ]
  },
  {
   "cell_type": "markdown",
   "id": "25a732ed",
   "metadata": {},
   "source": [
    "## 🔍 Check for Issues"
   ]
  },
  {
   "cell_type": "code",
   "execution_count": null,
   "id": "fb16c9c4",
   "metadata": {},
   "outputs": [],
   "source": [
    "\n",
    "print(\"Missing values:\\n\", df.isnull().sum())\n",
    "print(\"Duplicates:\", df.duplicated().sum())\n",
    "df.info()\n",
    "print(df['Product'].unique())\n"
   ]
  },
  {
   "cell_type": "markdown",
   "id": "4c0fc7e9",
   "metadata": {},
   "source": [
    "## 🧹 Cleaning Steps"
   ]
  },
  {
   "cell_type": "code",
   "execution_count": null,
   "id": "84ab8d56",
   "metadata": {},
   "outputs": [],
   "source": [
    "\n",
    "df = df.drop_duplicates()\n",
    "df['Price'] = df['Price'].fillna(df['Price'].mean())\n",
    "df = df.dropna(subset=['CustomerID'])\n",
    "df.columns = [c.strip().lower().replace(\" \", \"_\") for c in df.columns]\n",
    "df['product'] = df['product'].str.title().str.strip()\n",
    "df['date'] = pd.to_datetime(df['date'], errors='coerce')\n",
    "df = df.drop(columns=['unnamed:_0'], errors='ignore')\n",
    "print(\"Shape after:\", df.shape)\n"
   ]
  },
  {
   "cell_type": "markdown",
   "id": "55d24758",
   "metadata": {},
   "source": [
    "## ✅ Verify & Save"
   ]
  },
  {
   "cell_type": "code",
   "execution_count": null,
   "id": "46a10ef6",
   "metadata": {},
   "outputs": [],
   "source": [
    "\n",
    "df.info()\n",
    "df.describe()\n",
    "df.to_csv(\"cleaned_dataset.csv\", index=False)\n"
   ]
  }
 ],
 "metadata": {},
 "nbformat": 4,
 "nbformat_minor": 5
}
